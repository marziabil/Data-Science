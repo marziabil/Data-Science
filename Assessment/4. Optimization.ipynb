{
 "cells": [
  {
   "cell_type": "markdown",
   "id": "fd4cc881",
   "metadata": {},
   "source": [
    "## Task D: Optimization"
   ]
  },
  {
   "cell_type": "code",
   "execution_count": 2,
   "id": "4b949ec8",
   "metadata": {},
   "outputs": [],
   "source": [
    "from scipy.optimize import linprog\n",
    "\n",
    "\n",
    "obj = [1395, 540, 1170, 630]\n",
    "\n",
    "lhs_ineq = [[ 8,  6, 10, 9],  # F1 left side\n",
    "            [9, 12, 13, 7],  # F2 left side\n",
    "            [14, 9, 16, 5]]  # F3\n",
    "\n",
    "rhs_ineq = [35,  # f1\n",
    "            50,  # f2\n",
    "            40]  # f3\n",
    "\n",
    "#Positivity constraints were not defined for the decision variables because\n",
    "#linprog() takes these bounds (zero to positive infinity) by default\n"
   ]
  },
  {
   "cell_type": "code",
   "execution_count": 3,
   "id": "f13b3975",
   "metadata": {},
   "outputs": [
    {
     "data": {
      "text/plain": [
       "0.0"
      ]
     },
     "execution_count": 3,
     "metadata": {},
     "output_type": "execute_result"
    }
   ],
   "source": [
    "#Optimize the problem\n",
    "opt = linprog(c=obj, A_ub=lhs_ineq, b_ub=rhs_ineq,\n",
    "              method=\"revised simplex\")\n",
    "opt.fun"
   ]
  }
 ],
 "metadata": {
  "kernelspec": {
   "display_name": "Python 3 (ipykernel)",
   "language": "python",
   "name": "python3"
  },
  "language_info": {
   "codemirror_mode": {
    "name": "ipython",
    "version": 3
   },
   "file_extension": ".py",
   "mimetype": "text/x-python",
   "name": "python",
   "nbconvert_exporter": "python",
   "pygments_lexer": "ipython3",
   "version": "3.9.7"
  }
 },
 "nbformat": 4,
 "nbformat_minor": 5
}
